{
 "cells": [
  {
   "cell_type": "markdown",
   "metadata": {},
   "source": [
    "# Random Password Generator"
   ]
  },
  {
   "cell_type": "code",
   "execution_count": 1,
   "metadata": {},
   "outputs": [
    {
     "name": "stdout",
     "output_type": "stream",
     "text": [
      "0123456789\n",
      "abcdefghijklmnopqrstuvwxyz\n",
      "ABCDEFGHIJKLMNOPQRSTUVWXYZ\n",
      "!\"#$%&'()*+,-./:;<=>?@[\\]^_`{|}~\n",
      "845\n",
      "xcetm\n"
     ]
    }
   ],
   "source": [
    "import random\n",
    "import string\n",
    "\n",
    "print(string.printable[0:10])\n",
    "print(string.printable[10:36])\n",
    "print(string.printable[36:62])\n",
    "print(string.printable[62:94])\n",
    "\n",
    "\n",
    "numPass = 3\n",
    "passwordd = ''\n",
    "for n in range(numPass):\n",
    "    u = random.randint(0, 10)\n",
    "    passwordd += string.printable[u]\n",
    "print(passwordd)\n",
    "\n",
    "litllPass = 5\n",
    "passworddd = ''\n",
    "for n in range(litllPass):\n",
    "    u = random.randint(11, 36)\n",
    "    passworddd += string.printable[u]\n",
    "print(passworddd)\n",
    "\n",
    "\n",
    "# def start():\n",
    "#     def generate_pass(num):\n",
    "#         password = ''\n",
    "#         for n in range(num):\n",
    "#             x = random.randint(0, 93)\n",
    "#             password += string.printable[x]\n",
    "#\n",
    "#         return password\n",
    "#\n",
    "#     try:\n",
    "#         num = int(input(\"Enter the number of characters: \"))\n",
    "#         print(generate_pass(num))\n",
    "#         start()\n",
    "#     except ValueError:\n",
    "#         print(\"REMEMBER TO ENTER AN INTEGER.\\n\")\n",
    "#         start()\n",
    "#\n",
    "#\n",
    "# start()"
   ]
  },
  {
   "cell_type": "markdown",
   "metadata": {},
   "source": [
    "##### 17"
   ]
  },
  {
   "cell_type": "code",
   "execution_count": 2,
   "metadata": {},
   "outputs": [
    {
     "name": "stdin",
     "output_type": "stream",
     "text": [
      "Enter a number:  1898\n"
     ]
    },
    {
     "name": "stdout",
     "output_type": "stream",
     "text": [
      "This number is not within a hundred of 1000 or 2000.\n"
     ]
    }
   ],
   "source": [
    "a = int(input(\"Enter a number: \"))\n",
    "if abs(1000 - a) <= 100 and a <= 1100:\n",
    "    print(\"This number is within a hundred of 1000.\")\n",
    "elif abs(2000 - a) <= 100 and a <= 2100 :\n",
    "    print(\"This number is within a hundred of 2000.\")\n",
    "else:\n",
    "    print(\"This number is not within a hundred of 1000 or 2000.\")"
   ]
  },
  {
   "cell_type": "markdown",
   "metadata": {},
   "source": [
    "##### 18"
   ]
  },
  {
   "cell_type": "code",
   "execution_count": 5,
   "metadata": {},
   "outputs": [
    {
     "name": "stdout",
     "output_type": "stream",
     "text": [
      "5\n"
     ]
    }
   ],
   "source": [
    "a = 1 \n",
    "b = 3\n",
    "c = 1\n",
    "if a == b == c:\n",
    "    print(3*(a + b + c))\n",
    "else:\n",
    "    print(a + b + c)"
   ]
  },
  {
   "cell_type": "markdown",
   "metadata": {},
   "source": [
    "##### 19"
   ]
  },
  {
   "cell_type": "code",
   "execution_count": 9,
   "metadata": {},
   "outputs": [
    {
     "name": "stdout",
     "output_type": "stream",
     "text": [
      "IsEmpty\n"
     ]
    }
   ],
   "source": [
    "s = \"IsEmpty\"\n",
    "if len(s) >= 2 and s[:2] == \"Is\":\n",
    "    print(s)\n",
    "else:\n",
    "    print(\"Is\" + s)"
   ]
  },
  {
   "cell_type": "markdown",
   "metadata": {},
   "source": [
    "##### 20"
   ]
  },
  {
   "cell_type": "code",
   "execution_count": 17,
   "metadata": {},
   "outputs": [
    {
     "name": "stdout",
     "output_type": "stream",
     "text": [
      "PipiripiPipiripiPipiripi\n"
     ]
    }
   ],
   "source": [
    "s = \"Pipiripi\"\n",
    "r = \"\"\n",
    "n = 3\n",
    "for i in range(n):\n",
    "    r = r + s\n",
    "print(r)"
   ]
  },
  {
   "cell_type": "markdown",
   "metadata": {},
   "source": [
    "##### 21"
   ]
  },
  {
   "cell_type": "code",
   "execution_count": 20,
   "metadata": {},
   "outputs": [
    {
     "name": "stdin",
     "output_type": "stream",
     "text": [
      "Enter a number:  635635\n"
     ]
    },
    {
     "name": "stdout",
     "output_type": "stream",
     "text": [
      "It is an odd number!\n"
     ]
    }
   ],
   "source": [
    "n = int(input(\"Enter a number: \"))\n",
    "if n%2 == 0:\n",
    "    print(\"It is an even number!\")\n",
    "else:\n",
    "    print(\"It is an odd number!\")"
   ]
  },
  {
   "cell_type": "markdown",
   "metadata": {},
   "source": [
    "##### 22"
   ]
  },
  {
   "cell_type": "code",
   "execution_count": null,
   "metadata": {},
   "outputs": [],
   "source": []
  }
 ],
 "metadata": {
  "jupytext": {
   "formats": "ipynb,py:light"
  },
  "kernelspec": {
   "display_name": "Python 3",
   "language": "python",
   "name": "python3"
  },
  "language_info": {
   "codemirror_mode": {
    "name": "ipython",
    "version": 3
   },
   "file_extension": ".py",
   "mimetype": "text/x-python",
   "name": "python",
   "nbconvert_exporter": "python",
   "pygments_lexer": "ipython3",
   "version": "3.8.3"
  }
 },
 "nbformat": 4,
 "nbformat_minor": 4
}
